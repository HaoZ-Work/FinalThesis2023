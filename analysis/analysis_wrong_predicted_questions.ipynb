{
 "cells": [
  {
   "cell_type": "code",
   "execution_count": 3,
   "metadata": {
    "collapsed": true,
    "pycharm": {
     "is_executing": true
    }
   },
   "outputs": [],
   "source": [
    "import json\n"
   ]
  },
  {
   "cell_type": "code",
   "execution_count": 4,
   "metadata": {
    "collapsed": false,
    "pycharm": {
     "is_executing": true
    }
   },
   "outputs": [],
   "source": [
    "CSQA_DATA = '../data/csqa'\n",
    "DEV_PATH = CSQA_DATA + '/dev_rand_split.jsonl'\n",
    "TRAIN_PATH = CSQA_DATA + '/train_rand_split.jsonl'\n",
    "IH_QID_PATH = CSQA_DATA + '/inhouse_split_qids.txt'\n",
    "\n",
    "DEV_PREDICTED_PATH = '../runs/csqa/dragon__csqa_ih_true_load__elr1e-5_dlr1e-3_b128_ufz2_e22_sd5__20230324_111607/dev_e0_preds.csv'\n",
    "TEST_PREDICTED_PATH = '../runs/csqa/dragon__csqa_ih_true_load__elr1e-5_dlr1e-3_b128_ufz2_e22_sd5__20230324_111607/test_e0_preds.csv'\n",
    "STATEMENT_PATH = CSQA_DATA + '/statements'\n",
    "DEV_STATEMENT_PATH = STATEMENT_PATH + '/dev.statements.jsonl'\n",
    "TRAIN_STATEMENT_PATH = STATEMENT_PATH + '/train.statements.jsonl'\n"
   ]
  },
  {
   "cell_type": "code",
   "execution_count": 5,
   "metadata": {
    "collapsed": false
   },
   "outputs": [
    {
     "name": "stdout",
     "output_type": "stream",
     "text": [
      "2340e5fb43bc9a5c93da7fbd99d6a852\n",
      "{'answerKey': 'A', 'id': '075e483d21c29a511267ef62bedc0461', 'question': {'question_concept': 'punishing', 'choices': [{'label': 'A', 'text': 'ignore'}, {'label': 'B', 'text': 'enforce'}, {'label': 'C', 'text': 'authoritarian'}, {'label': 'D', 'text': 'yell at'}, {'label': 'E', 'text': 'avoid'}], 'stem': 'The sanctions against the school were a punishing blow, and they seemed to what the efforts the school had made to change?'}}\n",
      "['4c1cb0e95b99f72d55c068ba0255c54d', 'A']\n",
      "{'answerKey': 'A', 'id': '1afa02df02c908a558b4036e80242fac', 'question': {'question_concept': 'revolving door', 'choices': [{'label': 'A', 'text': 'bank'}, {'label': 'B', 'text': 'library'}, {'label': 'C', 'text': 'department store'}, {'label': 'D', 'text': 'mall'}, {'label': 'E', 'text': 'new york'}], 'stem': 'A revolving door is convenient for two direction travel, but it also serves as a security measure at a what?'}}\n",
      "A revolving door is convenient for two direction travel, but it also serves as a security measure at a what?\n",
      "['1afa02df02c908a558b4036e80242fac', 'D']\n"
     ]
    }
   ],
   "source": [
    "\n",
    "def load_txt(path):\n",
    "    data = []\n",
    "    with open(path, 'r') as f:\n",
    "        for line in f:\n",
    "            line= line.strip('\\n')\n",
    "            data.append(line)\n",
    "    return data\n",
    "\n",
    "def load_jsonl(path):\n",
    "    data = []\n",
    "    with open(path, 'r') as f:\n",
    "        for line in f:\n",
    "            data.append(json.loads(line))\n",
    "    return data\n",
    "\n",
    "def load_csv(path):\n",
    "    data = []\n",
    "    with open(path, 'r') as f:\n",
    "        for line in f:\n",
    "            \n",
    "            line = line.strip('\\n')\n",
    "            line= line.split(',')\n",
    "            data.append(line)\n",
    "    return data\n",
    "\n",
    "dev_data = load_jsonl(DEV_PATH)\n",
    "dev_pred = load_csv(DEV_PREDICTED_PATH)\n",
    "test_pred = load_csv(TEST_PREDICTED_PATH)\n",
    "train_data = load_jsonl(TRAIN_PATH)\n",
    "ih_split_qids = load_txt(IH_QID_PATH)\n",
    "\n",
    "\n",
    "\n",
    "print(ih_split_qids[0])\n",
    "print(train_data[0])\n",
    "print(test_pred[0])\n",
    "print(dev_data[0])\n",
    "print(dev_data[0]['question']['stem'])\n",
    "print(dev_pred[0])"
   ]
  },
  {
   "cell_type": "code",
   "execution_count": 6,
   "metadata": {
    "collapsed": false
   },
   "outputs": [
    {
     "name": "stdout",
     "output_type": "stream",
     "text": [
      "1241\n"
     ]
    }
   ],
   "source": [
    "# ih_split_qids stores the ids of train data that are inhouse split\n",
    "def get_train_data_ids():\n",
    "    train_data_ids = []\n",
    "    for data in train_data:\n",
    "        train_data_ids.append(data['id'])\n",
    "    return train_data_ids\n",
    "\n",
    "train_data_ids = get_train_data_ids()\n",
    "\n",
    "#remove the ids of train data that are inhouse split\n",
    "ih_split_test_qids = [qid for qid in train_data_ids if qid not in ih_split_qids]\n",
    "\n",
    "print(len(ih_split_test_qids))\n",
    "\n",
    "\n",
    "\n",
    "def get_tset_data():\n",
    "    test_data = []\n",
    "    for qid in ih_split_test_qids:\n",
    "        for data in train_data:\n",
    "            if data['id'] == qid:\n",
    "                test_data.append(data)\n",
    "    return test_data\n",
    "\n",
    "\n",
    "\n",
    "test_data = get_tset_data()\n"
   ]
  },
  {
   "cell_type": "code",
   "execution_count": 7,
   "metadata": {},
   "outputs": [
    {
     "name": "stdout",
     "output_type": "stream",
     "text": [
      "1241\n",
      "{'answerKey': 'A', 'id': '4c1cb0e95b99f72d55c068ba0255c54d', 'question': {'question_concept': 'choker', 'choices': [{'label': 'A', 'text': 'jewelry store'}, {'label': 'B', 'text': 'neck'}, {'label': 'C', 'text': 'jewlery box'}, {'label': 'D', 'text': 'jewelry box'}, {'label': 'E', 'text': 'boutique'}], 'stem': 'To locate a choker not located in a jewelry box or boutique where would you go?'}}\n"
     ]
    }
   ],
   "source": [
    "print(len(test_data))\n",
    "print(test_data[0])"
   ]
  },
  {
   "cell_type": "code",
   "execution_count": 12,
   "metadata": {},
   "outputs": [],
   "source": [
    "#get wrong predicted questions for dev data or test data\n",
    "def get_wrong_predicted_questions(data,predicted_data,humen_readable=False):\n",
    "    wrong_predicted_questions = []\n",
    "    for i in range(len(data)):\n",
    "        if data[i]['answerKey'] != predicted_data[i][1]:\n",
    "            new_data = {}\n",
    "            \n",
    "            if humen_readable:\n",
    "               \n",
    "                new_data[\"question\"] = data[i]['question']['stem']\n",
    "                choices_label = [choice['label'] for choice in data[i]['question']['choices']]\n",
    "                choices_text = [choice['text'] for choice in data[i]['question']['choices']]\n",
    "                new_data[\"choices\"] = {choices_label[i]:choices_text[i] for i in range(len(choices_label))}\n",
    "                new_data[\"answerKey\"] = data[i]['answerKey']\n",
    "\n",
    "            else:\n",
    "                new_data= data[i]\n",
    "                # new_data[\"choices\"] = data[i]['question']['choices']\n",
    "\n",
    "            new_data[\"wrong_prediction\"] = predicted_data[i][1]\n",
    "            wrong_predicted_questions.append(new_data)\n",
    "    return wrong_predicted_questions\n",
    "    \n",
    "\n",
    "\n",
    "# wrong_predicted_questions_test = get_wrong_predicted_questions(test_data,test_pred,humen_readable=True)\n",
    "# print(len(wrong_predicted_questions_test))\n",
    "# print(wrong_predicted_questions_test[0])\n",
    "# wrong_predicted_questions_dev = get_wrong_predicted_questions(dev_data,dev_pred,humen_readable=True)\n",
    "# print(len(wrong_predicted_questions_dev))\n",
    "# print(wrong_predicted_questions_dev[0])"
   ]
  },
  {
   "cell_type": "code",
   "execution_count": 16,
   "metadata": {},
   "outputs": [],
   "source": [
    "# write wrong predicted questions to json file\n",
    "def write_jsonl(path,data):\n",
    "    with open(path, 'w') as f:\n",
    "        for line in data:\n",
    "            f.write(json.dumps(line))\n",
    "            f.write('\\n')\n",
    "    return\n",
    "\n",
    "wrong_predicted_questions_dev= get_wrong_predicted_questions(dev_data,dev_pred)\n",
    "wrong_predicted_questions_test = get_wrong_predicted_questions(test_data,test_pred)\n",
    "wrong_predicted_questions_humen_dev = get_wrong_predicted_questions(dev_data,dev_pred,humen_readable=True)\n",
    "wrong_predicted_questions_humen_test = get_wrong_predicted_questions(test_data,test_pred,humen_readable=True)\n",
    "\n",
    "wrong_predicted_questions_humen_dev_path = 'humen_readable_wrong_predicted_questions_dev.jsonl'\n",
    "wrong_predicted_questions_humen_test_path = 'humen_readable_wrong_predicted_questions_test.jsonl'\n",
    "wrong_predicted_questions_dev_path = 'wrong_predicted_questions_dev.jsonl'\n",
    "wrong_predicted_questions_test_path= 'wrong_predicted_questions_test.jsonl'\n",
    "\n",
    "write_jsonl(wrong_predicted_questions_humen_dev_path,wrong_predicted_questions_humen_dev)\n",
    "write_jsonl(wrong_predicted_questions_humen_test_path,wrong_predicted_questions_humen_test)\n",
    "write_jsonl(wrong_predicted_questions_dev_path,wrong_predicted_questions_dev)\n",
    "write_jsonl(wrong_predicted_questions_test_path,wrong_predicted_questions_test)"
   ]
  },
  {
   "cell_type": "code",
   "execution_count": null,
   "metadata": {},
   "outputs": [],
   "source": []
  }
 ],
 "metadata": {
  "kernelspec": {
   "display_name": "Python 3 (ipykernel)",
   "language": "python",
   "name": "python3"
  },
  "language_info": {
   "codemirror_mode": {
    "name": "ipython",
    "version": 3
   },
   "file_extension": ".py",
   "mimetype": "text/x-python",
   "name": "python",
   "nbconvert_exporter": "python",
   "pygments_lexer": "ipython3",
   "version": "3.8.16"
  }
 },
 "nbformat": 4,
 "nbformat_minor": 0
}
