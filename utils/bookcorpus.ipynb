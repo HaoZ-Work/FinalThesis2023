{
 "cells": [
  {
   "cell_type": "code",
   "execution_count": 55,
   "outputs": [
    {
     "name": "stderr",
     "output_type": "stream",
     "text": [
      "Found cached dataset bookcorpus (/home/dtdysh/.cache/huggingface/datasets/bookcorpus/plain_text/1.0.0/eddee3cae1cc263a431aa98207d4d27fd8a73b0a9742f692af0e6c65afa4d75f)\n",
      "100%|██████████| 1/1 [00:17<00:00, 17.63s/it]\n"
     ]
    },
    {
     "name": "stdout",
     "output_type": "stream",
     "text": [
      "dict_keys(['train'])\n",
      "740042.28\n",
      "{'text': 'usually , he would be tearing around the living room , playing with his toys .'}\n"
     ]
    }
   ],
   "source": [
    "from datasets import load_dataset\n",
    "bookcorpus_dataset = load_dataset('bookcorpus')\n",
    "\n",
    "# 查看数据集中包含的split。常见的split有'train', 'test', 'validation'。\n",
    "print(bookcorpus_dataset.keys())\n",
    "\n",
    "# 查看某个split（如'train'）的数据大小\n",
    "print(len(bookcorpus_dataset['train'])*0.01)\n",
    "\n",
    "# 查看数据集的一些样例\n",
    "print(bookcorpus_dataset['train'][0])\n"
   ],
   "metadata": {
    "collapsed": false,
    "ExecuteTime": {
     "end_time": "2023-06-27T14:10:40.985917500Z",
     "start_time": "2023-06-27T14:10:20.668767800Z"
    }
   }
  },
  {
   "cell_type": "code",
   "execution_count": 130,
   "outputs": [
    {
     "name": "stdout",
     "output_type": "stream",
     "text": [
      "74004.228\n"
     ]
    }
   ],
   "source": [
    "print(len(bookcorpus_dataset['train'])/1000)\n"
   ],
   "metadata": {
    "collapsed": false,
    "ExecuteTime": {
     "end_time": "2023-07-06T07:51:20.977742200Z",
     "start_time": "2023-07-06T07:51:20.545634100Z"
    }
   }
  },
  {
   "cell_type": "code",
   "execution_count": 125,
   "outputs": [
    {
     "name": "stderr",
     "output_type": "stream",
     "text": [
      "Writing train and test data: 100%|██████████| 180000/180000 [01:05<00:00, 2762.19it/s]\n",
      "Writing dev data: 100%|██████████| 20000/20000 [00:04<00:00, 4957.55it/s]\n"
     ]
    },
    {
     "name": "stdout",
     "output_type": "stream",
     "text": [
      "done\n"
     ]
    }
   ],
   "source": [
    "import uuid\n",
    "import json\n",
    "import random\n",
    "from tqdm import tqdm\n",
    "\n",
    "def convert_to_csqa(example):\n",
    "    last_word = example[\"text\"].split()[-1]\n",
    "    csqa_example = {\n",
    "        \"id\": str(uuid.uuid4()),\n",
    "        \"question\": {\n",
    "            \"choices\": [{\"label\": \"A\", \"text\": last_word}],\n",
    "            \"stem\": example[\"text\"]\n",
    "        },\n",
    "        \"answerKey\": \"A\"\n",
    "    }\n",
    "    return csqa_example\n",
    "\n",
    "dataset_size = 200000\n",
    "\n",
    "# Generate a list of random indexes\n",
    "all_indexes = list(range(len(bookcorpus_dataset['train'])))\n",
    "random_indexes = random.sample(all_indexes, dataset_size)\n",
    "\n",
    "train_size = int(dataset_size * 0.8)\n",
    "test_size = int(dataset_size * 0.1)\n",
    "dev_size = dataset_size - train_size - test_size\n",
    "\n",
    "ids_train = []\n",
    "\n",
    "# Write the training data and testing data\n",
    "with open('../data/bookcorpus/train_rand_split.jsonl', 'w') as f:\n",
    "    for i in tqdm(range(train_size + test_size), desc=\"Writing train and test data\"):\n",
    "        csqa_example = convert_to_csqa(bookcorpus_dataset['train'][random_indexes[i]])\n",
    "        if i < train_size:\n",
    "            ids_train.append(csqa_example[\"id\"])\n",
    "        f.write(json.dumps(csqa_example) + '\\n')\n",
    "\n",
    "# Write the dev data\n",
    "with open('../data/bookcorpus/dev_rand_split.jsonl', 'w') as f:\n",
    "    for i in tqdm(range(train_size + test_size, dataset_size), desc=\"Writing dev data\"):\n",
    "        csqa_example = convert_to_csqa(bookcorpus_dataset['train'][random_indexes[i]])\n",
    "        f.write(json.dumps(csqa_example) + '\\n')\n",
    "\n",
    "# Write IDs for training set\n",
    "with open('../data/bookcorpus/inhouse_split_qids.txt', 'w') as f:\n",
    "    for id in ids_train:\n",
    "        f.write(f\"{id}\\n\")\n",
    "\n",
    "print(\"done\")\n"
   ],
   "metadata": {
    "collapsed": false,
    "ExecuteTime": {
     "end_time": "2023-07-05T13:26:35.341088700Z",
     "start_time": "2023-07-05T13:25:02.244023200Z"
    }
   }
  },
  {
   "cell_type": "code",
   "execution_count": 75,
   "outputs": [],
   "source": [],
   "metadata": {
    "collapsed": false,
    "ExecuteTime": {
     "end_time": "2023-07-03T00:41:22.801094400Z",
     "start_time": "2023-07-03T00:41:22.729098900Z"
    }
   }
  },
  {
   "cell_type": "markdown",
   "source": [
    "### Then create or copy a test_rand_split_not_answers.jsonl as test set. But we will only use inhouse test set"
   ],
   "metadata": {
    "collapsed": false
   }
  },
  {
   "cell_type": "code",
   "execution_count": null,
   "outputs": [],
   "source": [],
   "metadata": {
    "collapsed": false
   }
  },
  {
   "cell_type": "code",
   "execution_count": 103,
   "outputs": [
    {
     "data": {
      "text/plain": "'my mom couldnt answer anyone as well because she was shocked seen skin happen and i didnt have a spare second to answer anyone as soon as the nurses came they took me to emergency room for an operation to take out the broken glass pieces inside my skin..'"
     },
     "execution_count": 103,
     "metadata": {},
     "output_type": "execute_result"
    }
   ],
   "source": [
    "\n",
    "import re\n",
    "BLANK_STR = \"___\"\n",
    "\n",
    "def create_hypothesis(fitb: str, choice: str, ans_pos: bool) -> str:\n",
    "\n",
    "    if \". \" + BLANK_STR in fitb or fitb.startswith(BLANK_STR):\n",
    "        choice = choice[0].upper() + choice[1:]\n",
    "    else:\n",
    "        choice = choice.lower()\n",
    "    # Remove period from the answer choice, if the question doesn't end with the blank\n",
    "    if not fitb.endswith(BLANK_STR):\n",
    "        choice = choice.rstrip(\".\")\n",
    "    # Some questions already have blanks indicated with 2+ underscores\n",
    "\n",
    "    choice = choice.replace(\"\\\\\", \"\")\n",
    "\n",
    "    if not ans_pos:\n",
    "        try:\n",
    "            hypothesis = re.sub(\"__+\", choice, fitb)\n",
    "        except:\n",
    "            print()\n",
    "            print (choice, fitb)\n",
    "            print('@@@')\n",
    "        return hypothesis\n",
    "    choice = choice.strip()\n",
    "    m = re.search(\"__+\", fitb)\n",
    "    start = m.start()\n",
    "\n",
    "    length = (len(choice) - 1) if fitb.endswith(BLANK_STR) and choice[-1] in ['.', '?', '!'] else len(choice)\n",
    "    hypothesis = re.sub(\"__+\", choice, fitb)\n",
    "\n",
    "    return hypothesis, (start, start + length)\n",
    "\n",
    "\n",
    "fitb = 'my mom couldnt answer anyone as well because she was shocked seen ___ happen and i didnt have a spare second to answer anyone as soon as the nurses came they took me to emergency room for an operation to take out the broken glass pieces inside my skin..'\n",
    "\n",
    "choice = '\\skin'\n",
    "# print (choice, fitb)\n",
    "\n",
    "create_hypothesis(fitb=fitb,choice=choice,ans_pos=False)"
   ],
   "metadata": {
    "collapsed": false,
    "ExecuteTime": {
     "end_time": "2023-07-03T11:04:22.486209300Z",
     "start_time": "2023-07-03T11:04:22.484275300Z"
    }
   }
  },
  {
   "cell_type": "code",
   "execution_count": 105,
   "outputs": [
    {
     "ename": "NameError",
     "evalue": "name 'torch' is not defined",
     "output_type": "error",
     "traceback": [
      "\u001B[0;31m---------------------------------------------------------------------------\u001B[0m",
      "\u001B[0;31mNameError\u001B[0m                                 Traceback (most recent call last)",
      "Cell \u001B[0;32mIn[105], line 4\u001B[0m\n\u001B[1;32m      1\u001B[0m \u001B[38;5;28;01mimport\u001B[39;00m \u001B[38;5;21;01mtorch\u001B[39;00m\u001B[38;5;21;01m.\u001B[39;00m\u001B[38;5;21;01moptim\u001B[39;00m \u001B[38;5;28;01mas\u001B[39;00m \u001B[38;5;21;01moptim\u001B[39;00m\n\u001B[1;32m      3\u001B[0m \u001B[38;5;66;03m# 创建一个简单的数据集\u001B[39;00m\n\u001B[0;32m----> 4\u001B[0m x \u001B[38;5;241m=\u001B[39m \u001B[43mtorch\u001B[49m\u001B[38;5;241m.\u001B[39mrandn(\u001B[38;5;241m100\u001B[39m, \u001B[38;5;241m10\u001B[39m)\n\u001B[1;32m      5\u001B[0m y \u001B[38;5;241m=\u001B[39m torch\u001B[38;5;241m.\u001B[39mrandn(\u001B[38;5;241m100\u001B[39m, \u001B[38;5;241m10\u001B[39m)\n\u001B[1;32m      7\u001B[0m \u001B[38;5;66;03m# 创建模型\u001B[39;00m\n",
      "\u001B[0;31mNameError\u001B[0m: name 'torch' is not defined"
     ]
    }
   ],
   "source": [],
   "metadata": {
    "collapsed": false,
    "ExecuteTime": {
     "end_time": "2023-07-03T13:55:01.106943400Z",
     "start_time": "2023-07-03T13:54:44.252615600Z"
    }
   }
  }
 ],
 "metadata": {
  "kernelspec": {
   "display_name": "Python 3",
   "language": "python",
   "name": "python3"
  },
  "language_info": {
   "codemirror_mode": {
    "name": "ipython",
    "version": 2
   },
   "file_extension": ".py",
   "mimetype": "text/x-python",
   "name": "python",
   "nbconvert_exporter": "python",
   "pygments_lexer": "ipython2",
   "version": "2.7.6"
  }
 },
 "nbformat": 4,
 "nbformat_minor": 0
}
